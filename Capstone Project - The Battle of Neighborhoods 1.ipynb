{
    "cells": [
        {
            "cell_type": "markdown",
            "metadata": {
                "collapsed": true
            },
            "source": "### 2. Data Acquisition and Cleaning\n"
        },
        {
            "cell_type": "markdown",
            "metadata": {},
            "source": "#### 2.1 Data Acquisition"
        },
        {
            "cell_type": "markdown",
            "metadata": {},
            "source": "The data acquired for this project is a combination of data from three sources. The first data\nsource of the project uses a London crime data that shows the crime per borough in London.\nThe dataset contains the following columns:\n\u25cf lsoa_code: code for Lower Super Output Area in Greater London.\n\u25cf borough: Common name for London borough.\n\u25cf major_category: High level categorization of crime\n\u25cf minor_category: Low level categorization of crime within major category.\n\u25cf value: monthly reported count of categorical crime in given borough\n\u25cf year: Year of reported counts, 2008-2016\n\u25cf month: Month of reported counts, 1-12"
        },
        {
            "cell_type": "markdown",
            "metadata": {},
            "source": "The second source of data is scraped from a wikipedia page that contains the list of London\nboroughs. This page contains additional information about the boroughs, the following are\nthe columns:\n\n\u25cf Borough: The names of the 33 London boroughs.\n\n\u25cf Inner: Categorizing the borough as an Inner London borough or an Outer London\nBorough.\n\n\u25cf Status: Categorizing the borough as Royal, City or other borough.\n\n\u25cf Local authority: The local authority assigned to the borough.\n\n\u25cf Political control: The political party that control the borough.\n\n\u25cf Headquarters: Headquarters of the Boroughs.\n\n\u25cf Area (sq mi): Area of the borough in square miles.\n\n\u25cf Population (2013 est)[1]: The population in the borough recorded during the year 2013.\n\n\u25cf Co-ordinates: The latitude and longitude of the boroughs.\n\n\u25cf Nr. in map: The number assigned to each borough to represent visually on a map.\n"
        },
        {
            "cell_type": "markdown",
            "metadata": {},
            "source": "The third data source is the list of Neighborhoods in the Royal Borough of Kingston upon\nThames as found on a wikipedia page. This dataset is created from scratch using the list of\nneighborhood available on the site, the following are columns:\n    \n\u25cf Neighborhood: Name of the neighborhood in the Borough.\n\n\u25cf Borough: Name of the Borough.\n\n\u25cf Latitude: Latitude of the Borough.\n\n\u25cf Longitude: Longitude of the Borough.\n"
        },
        {
            "cell_type": "markdown",
            "metadata": {},
            "source": "#### 2.2 Data Cleaning"
        },
        {
            "cell_type": "markdown",
            "metadata": {},
            "source": "The data preparation for each of the three sources of data is done separately. From the\nLondon crime data, the crimes during the most recent year (2016) are only selected. The\nmajor categories of crime are pivoted to get the total crimes per borough as per the\ncategory"
        },
        {
            "cell_type": "markdown",
            "metadata": {},
            "source": "The second data is scraped from a wikipedia page using the Beautiful Soup library in\npython. Using this library we can extract the data in the tabular format as shown in the\nwebsite. After the web scraping, string manipulation is required to get the names of the\nboroughs in the correct form. This is important because we will be merging the\ntwo datasets together using the Borough names.\n"
        },
        {
            "cell_type": "markdown",
            "metadata": {},
            "source": "The two datasets are merged on the Borough names to form a new dataset that combines\nthe necessary information in one dataset. The purpose of this dataset is to\nvisualize the crime rates in each borough and identify the borough with the least crimes\nrecorded during the year 2016."
        },
        {
            "cell_type": "markdown",
            "metadata": {},
            "source": "After visualizing the crime in each borough we can find the borough with the lowest crime\nrate and hence tag that borough as the safest borough. The third source of data is acquired\nfrom the list of neighborhoods in the safest borough on wikipedia. This dataset is created\nfrom scratch, the pandas data frame is created with the names of the neighborhoods and the\nname of the borough with the latitude and longitude are left blank"
        },
        {
            "cell_type": "markdown",
            "metadata": {},
            "source": "The coordinates of the neighborhoods is be obtained using Google Maps API geocoding\nto get the final dataset"
        },
        {
            "cell_type": "markdown",
            "metadata": {},
            "source": "The new dataset is used to generate the venues for each neighborhood using the\nFoursquare API."
        },
        {
            "cell_type": "code",
            "execution_count": null,
            "metadata": {},
            "outputs": [],
            "source": ""
        }
    ],
    "metadata": {
        "kernelspec": {
            "display_name": "Python 3.6",
            "language": "python",
            "name": "python3"
        },
        "language_info": {
            "codemirror_mode": {
                "name": "ipython",
                "version": 3
            },
            "file_extension": ".py",
            "mimetype": "text/x-python",
            "name": "python",
            "nbconvert_exporter": "python",
            "pygments_lexer": "ipython3",
            "version": "3.6.9"
        }
    },
    "nbformat": 4,
    "nbformat_minor": 1
}