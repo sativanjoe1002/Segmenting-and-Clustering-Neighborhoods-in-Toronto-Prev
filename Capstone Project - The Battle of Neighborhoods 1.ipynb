{
    "cells": [
        {
            "cell_type": "markdown",
            "metadata": {
                "collapsed": true
            },
            "source": "### 1. Introduction"
        },
        {
            "cell_type": "markdown",
            "metadata": {},
            "source": "#### 1.1 Background"
        },
        {
            "cell_type": "markdown",
            "metadata": {},
            "source": "The Average AMerican moves about eleven times in their lifetime. This Bring us to the question : Do people move until htey find a place to settle down where they truly feel happy, or do our wants and needs change over time, propmting us to eventually leave a town we once called home for a new area that will bring us satisfication? Or, do we often move to a new area without knowing exactly what we're getting into, forcing us to turn tail and run at the first sign of discomfort. "
        },
        {
            "cell_type": "markdown",
            "metadata": {},
            "source": "To minimize the chances of this happening, we should always do a proper research planning over next move in life. Consider the following factors when picking a new place to live so you dont end up wasting your valuable time and money making a move youll end up regretting. Safetly is a top concern when moving to a new area. If you don't feel safe in your own home, your not going to be able to enjoy living there."
        },
        {
            "cell_type": "markdown",
            "metadata": {},
            "source": "#### 1.2 Problem"
        },
        {
            "cell_type": "markdown",
            "metadata": {},
            "source": "The crime statistics dataset of London found in kaggle has a crime in each Boroughs of London from 2008 to 2016. The year 2016 being the latest we will be considering the data of that year which is actually old information as of now. The crime rates in each borough may have changed over time."
        },
        {
            "cell_type": "markdown",
            "metadata": {},
            "source": "This project aims to select the safest borough in london based on the total crimes, explore the neighborhoods of that borough to find the 10 most common venues in each neighborhood and finally cluster the neighborhoods using k-means Clustering."
        },
        {
            "cell_type": "markdown",
            "metadata": {},
            "source": "#### 1.3 Interest "
        },
        {
            "cell_type": "markdown",
            "metadata": {},
            "source": "Expats who are considering to relocate to london will be intrested to identify the safest borough in london and explore its neighborhoods and common venues around each neighborhood."
        },
        {
            "cell_type": "code",
            "execution_count": null,
            "metadata": {},
            "outputs": [],
            "source": ""
        }
    ],
    "metadata": {
        "kernelspec": {
            "display_name": "Python 3.6",
            "language": "python",
            "name": "python3"
        },
        "language_info": {
            "codemirror_mode": {
                "name": "ipython",
                "version": 3
            },
            "file_extension": ".py",
            "mimetype": "text/x-python",
            "name": "python",
            "nbconvert_exporter": "python",
            "pygments_lexer": "ipython3",
            "version": "3.6.9"
        }
    },
    "nbformat": 4,
    "nbformat_minor": 1
}